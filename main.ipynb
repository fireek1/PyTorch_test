{
 "cells": [
  {
   "cell_type": "code",
   "execution_count": 15,
   "metadata": {},
   "outputs": [],
   "source": [
    "import torch\n",
    "import torchvision\n",
    "\n",
    "from torchvision.datasets import ImageFolder\n",
    "from torch.utils.data import Dataset, DataLoader, random_split\n",
    "\n",
    "\n",
    "import os\n",
    "import json\n",
    "import numpy as np\n",
    "import matplotlib.pyplot as plt\n",
    "\n",
    "from PIL import Image"
   ]
  },
  {
   "cell_type": "code",
   "execution_count": 16,
   "metadata": {},
   "outputs": [
    {
     "name": "stdout",
     "output_type": "stream",
     "text": [
      "Файлы сохранены в dataset/train и dataset/test\n"
     ]
    }
   ],
   "source": [
    "def load_mnist_images(filename):\n",
    "    with open(filename, 'rb') as f:\n",
    "        f.read(16)\n",
    "        images = np.frombuffer(f.read(), dtype=np.uint8)\n",
    "        images = images.reshape(-1, 28, 28)\n",
    "    return images\n",
    "\n",
    "def load_mnist_labels(filename):\n",
    "    with open(filename, 'rb') as f:\n",
    "        f.read(8)\n",
    "        labels = np.frombuffer(f.read(), dtype=np.uint8)\n",
    "    return labels\n",
    "\n",
    "data_dir = \"dataset\"\n",
    "train_images_file = os.path.join(data_dir, \"train-images.idx3-ubyte\")\n",
    "train_labels_file = os.path.join(data_dir, \"train-labels.idx1-ubyte\")\n",
    "test_images_file = os.path.join(data_dir, \"t10k-images.idx3-ubyte\")\n",
    "test_labels_file = os.path.join(data_dir, \"t10k-labels.idx1-ubyte\")\n",
    "\n",
    "train_images = load_mnist_images(train_images_file)\n",
    "train_labels = load_mnist_labels(train_labels_file)\n",
    "test_images = load_mnist_images(test_images_file)\n",
    "test_labels = load_mnist_labels(test_labels_file)\n",
    "\n",
    "def save_images(images, labels, save_dir):\n",
    "    os.makedirs(save_dir, exist_ok=True)\n",
    "\n",
    "    for i, (image, label) in enumerate(zip(images, labels)):\n",
    "        class_dir = os.path.join(save_dir, f\"class_{label}\")\n",
    "        os.makedirs(class_dir, exist_ok=True)\n",
    "\n",
    "        img = Image.fromarray(image)\n",
    "        img.save(os.path.join(class_dir, f\"digit_{label}_{i}.jpeg\"))\n",
    "\n",
    "save_images(train_images, train_labels, os.path.join(data_dir, \"train\"))\n",
    "save_images(test_images, test_labels, os.path.join(data_dir, \"test\"))\n",
    "\n",
    "print(\"Файлы сохранены в dataset/train и dataset/test\")"
   ]
  },
  {
   "cell_type": "code",
   "execution_count": null,
   "metadata": {},
   "outputs": [],
   "source": []
  },
  {
   "cell_type": "markdown",
   "metadata": {},
   "source": [
    "Пользовательский класс для данных."
   ]
  },
  {
   "cell_type": "code",
   "execution_count": 17,
   "metadata": {},
   "outputs": [],
   "source": [
    "class MNISTDataset(Dataset):\n",
    "    def __init__(self, path, transform=None):\n",
    "        self.path = path\n",
    "        self.transform = transform\n",
    "\n",
    "        self.len_dataset = 0\n",
    "        self.data_list = []\n",
    "\n",
    "        for path_dir, dir_list, file_list in os.walk(path):\n",
    "            if path_dir == path:\n",
    "                self.classes = dir_list\n",
    "                self.class_to_idx = {\n",
    "                    cls_name: i for i, cls_name in enumerate(self.classes)\n",
    "                }\n",
    "                continue\n",
    "\n",
    "            cls = path_dir.split('/')[-1]\n",
    "\n",
    "            for name_file in file_list:\n",
    "                file_path = os.path.join(path_dir, name_file)\n",
    "                self.data_list.append((file_path, self.class_to_idx[cls]))\n",
    "\n",
    "            self.len_dataset += len(file_list)\n",
    "\n",
    "    def __len__(self):\n",
    "        return self.len_dataset\n",
    "    \n",
    "    def __getitem__(self, index):\n",
    "        file_path, target = self.data_list[index]\n",
    "        sample = np.array(Image.open(file_path))\n",
    "\n",
    "        if self.transform is not None:\n",
    "            sample = self.transform(sample)\n",
    "\n",
    "        return sample, target"
   ]
  },
  {
   "cell_type": "markdown",
   "metadata": {},
   "source": [
    "ТЕСТЫ os.walk()"
   ]
  },
  {
   "cell_type": "code",
   "execution_count": 18,
   "metadata": {},
   "outputs": [
    {
     "name": "stdout",
     "output_type": "stream",
     "text": [
      "Путь к папке - dataset/train\n",
      "    -- кол-во папок 10\n",
      "    -- кол-во файлов 0\n",
      "Путь к папке - dataset/train\\class_0\n",
      "    -- кол-во папок 0\n",
      "    -- кол-во файлов 5923\n",
      "Путь к папке - dataset/train\\class_1\n",
      "    -- кол-во папок 0\n",
      "    -- кол-во файлов 6742\n",
      "Путь к папке - dataset/train\\class_2\n",
      "    -- кол-во папок 0\n",
      "    -- кол-во файлов 5958\n",
      "Путь к папке - dataset/train\\class_3\n",
      "    -- кол-во папок 0\n",
      "    -- кол-во файлов 6131\n",
      "Путь к папке - dataset/train\\class_4\n",
      "    -- кол-во папок 0\n",
      "    -- кол-во файлов 5842\n",
      "Путь к папке - dataset/train\\class_5\n",
      "    -- кол-во папок 0\n",
      "    -- кол-во файлов 5421\n",
      "Путь к папке - dataset/train\\class_6\n",
      "    -- кол-во папок 0\n",
      "    -- кол-во файлов 5918\n",
      "Путь к папке - dataset/train\\class_7\n",
      "    -- кол-во папок 0\n",
      "    -- кол-во файлов 6265\n",
      "Путь к папке - dataset/train\\class_8\n",
      "    -- кол-во папок 0\n",
      "    -- кол-во файлов 5851\n",
      "Путь к папке - dataset/train\\class_9\n",
      "    -- кол-во папок 0\n",
      "    -- кол-во файлов 5949\n"
     ]
    }
   ],
   "source": [
    "for path, dir_list, file_list in os.walk('dataset/train'):\n",
    "    print(f'Путь к папке - {path}')\n",
    "    print(f'    -- кол-во папок {len(dir_list)}')\n",
    "    print(f'    -- кол-во файлов {len(file_list)}')"
   ]
  },
  {
   "cell_type": "code",
   "execution_count": 25,
   "metadata": {},
   "outputs": [],
   "source": [
    "train_data = MNISTDataset('dataset/train/')\n",
    "test_data = MNISTDataset('dataset/test/')\n",
    "train_data, val_data = random_split(train_data, [0.8, 0.2])"
   ]
  },
  {
   "cell_type": "code",
   "execution_count": null,
   "metadata": {},
   "outputs": [
    {
     "data": {
      "text/plain": [
       "(array([[  0,   0,   0,   0,   0,   0,   0,   0,   8,   0,   0,   8,   0,\n",
       "           0,  15,   0,   0,   5,   5,   0,   0,   0,   0,   6,   0,   0,\n",
       "           0,   0],\n",
       "        [  0,   0,   0,   0,   0,   0,   0,   0,   0,  14,   4,   0,   4,\n",
       "           0,   0,   1,   0,   4,   0,   2,  17,   8,   0,   4,   0,   0,\n",
       "           0,   0],\n",
       "        [  0,   0,   0,   0,   0,   0,   0,   0,   9,   0,   0,  10,   5,\n",
       "           0,   0,   8,   0,   0,   0,   0,   0,   0,   4,   0,   0,   0,\n",
       "           0,   0],\n",
       "        [  0,   0,   0,   0,   0,   0,   0,   0,   8,   0,   8,   1,   0,\n",
       "          12,  10,   0,   0,   6,   0,   0,   9,  10,   1,   7,   0,   0,\n",
       "           0,   0],\n",
       "        [  0,   0,   0,   0,   0,   0,   0,   0,   0,   2,   0,   0,  10,\n",
       "           0,   0,  57,  57, 172, 245, 255, 243,  96,   0,   0,   0,   0,\n",
       "           0,   0],\n",
       "        [  0,   0,   0,   0,   0,   0,   0,   0,   4,   0,   0,   0,   1,\n",
       "          13,  67, 195, 255, 243, 248, 255, 250, 228, 151,  50,   0,   0,\n",
       "           0,   0],\n",
       "        [  0,   0,   0,   0,   0,   0,   0,   0,   0,   4,  23,   0,  27,\n",
       "         157, 224, 248, 255, 234, 255, 255, 233, 255, 238,  84,   0,   0,\n",
       "           0,   0],\n",
       "        [  0,   0,   0,   0,   0,   0,   0,   0,   8,   0,   0,  23, 163,\n",
       "         255, 241, 255, 241, 255, 255, 247, 248, 251, 253, 255,   0,   0,\n",
       "           0,   0],\n",
       "        [  1,   0,   0,   0,   5,   1,   1,   0,   2,   0,   0, 166, 242,\n",
       "         251, 255, 246, 254, 247, 252, 255, 235, 255, 255, 253,   0,   0,\n",
       "           0,   0],\n",
       "        [  4,   0,   4,   6,   0,   0,   6,   5,   7,   0, 157, 245, 255,\n",
       "         244, 255, 255, 254, 216, 175,  78, 252, 255, 231, 255,   0,   0,\n",
       "           0,   0],\n",
       "        [  0,   0,  13,   0,   0,   8,   0,   0,   3,  35, 203, 245, 255,\n",
       "         251, 254, 241, 129,  62,   0,  65, 246, 250, 255, 241,   0,   0,\n",
       "           0,   0],\n",
       "        [  1,   0,   0,  20,   0,   0,  33,   0,  10, 245, 245, 255, 251,\n",
       "         244, 255, 138,  12,   0,  29, 246, 255, 242, 255,  98,   0,   0,\n",
       "           0,   0],\n",
       "        [  0,   6,   3,   0,   8,   0,   5, 112, 204, 255, 255, 233, 253,\n",
       "         255, 122,  60,   0,  60, 196, 246, 241, 255, 233,  77,   0,   0,\n",
       "           0,   0],\n",
       "        [  0,   3,   8,   0,   5,   2,  43, 251, 255, 240, 239, 255, 247,\n",
       "         102,  18,  10,   0, 116, 255, 255, 243, 249, 183,  16,   0,   0,\n",
       "           0,   0],\n",
       "        [  0,   0,   0,  28,   0,  41, 234, 246, 250, 247, 255, 253, 255,\n",
       "          80,   0,   0,  96, 255, 229, 234, 255, 206,   1,   0,   0,   0,\n",
       "           0,   0],\n",
       "        [  0,   4,  17,   0,  44, 205, 253, 250, 249, 255, 247, 236, 255,\n",
       "          59,  39, 155, 235, 237, 255, 255, 243, 223,   0,   0,   0,   0,\n",
       "           0,   0],\n",
       "        [  0,   3,   0,   2, 100, 238, 255, 243, 253, 165, 138, 235, 255,\n",
       "         225, 216, 255, 250, 249, 255, 235, 232,  60,   0,   6,   0,   0,\n",
       "           0,   0],\n",
       "        [ 12,   0,   0,   0, 255, 255, 240, 255, 177,   0,   0, 152, 230,\n",
       "         255, 255, 248, 244, 247, 255, 213,  69,   9,   0,   0,   0,   0,\n",
       "           0,   0],\n",
       "        [  1,   0,  16,   0, 255, 238, 246, 244,  69,   0,  20, 167, 245,\n",
       "         255, 246, 255, 250, 255, 242, 184,   0,   0,   9,  11,   0,   0,\n",
       "           0,   0],\n",
       "        [  0,   4,  15,   0, 189, 255, 255, 155,   0,  75, 162, 255, 245,\n",
       "         249, 255, 252, 255, 207,  64,   0,  10,   3,   0,  10,   0,   0,\n",
       "           0,   0],\n",
       "        [  0,  13,   0,   0,  99, 232, 252, 185, 144, 255, 247, 250, 255,\n",
       "         252, 253, 238, 223,  61,   0,   0,   0,   9,  31,   0,   0,   0,\n",
       "           0,   0],\n",
       "        [  1,   0,   0,   0,   1, 144, 255, 255, 247, 250, 236, 255, 249,\n",
       "         248, 253, 123,  36,   2,   0,  17,   0,   0,   0,   0,   0,   0,\n",
       "           0,   0],\n",
       "        [ 11,   0,   2,  18,   2,  93, 233, 240, 251, 255, 255, 243, 238,\n",
       "         172,  97,   0,   1,   0,   0,   2,   0,   0,   4,   3,   0,   0,\n",
       "           0,   0],\n",
       "        [  0,  11,   0,   8,   0,   0, 100, 249, 248, 251, 240, 103,  72,\n",
       "          30,   0,   3,   0,   5,   7,   0,  16,   0,   0,   1,   0,   0,\n",
       "           0,   0],\n",
       "        [  0,   0,   0,   0,   0,   0,   0,   0,   0,   0,   0,   0,   0,\n",
       "           0,   0,   0,   0,   0,   0,   0,   0,   0,   0,   0,   0,   0,\n",
       "           0,   0],\n",
       "        [  0,   0,   0,   0,   0,   0,   0,   0,   0,   0,   0,   0,   0,\n",
       "           0,   0,   0,   0,   0,   0,   0,   0,   0,   0,   0,   0,   0,\n",
       "           0,   0],\n",
       "        [  0,   0,   0,   0,   0,   0,   0,   0,   0,   0,   0,   0,   0,\n",
       "           0,   0,   0,   0,   0,   0,   0,   0,   0,   0,   0,   0,   0,\n",
       "           0,   0],\n",
       "        [  0,   0,   0,   0,   0,   0,   0,   0,   0,   0,   0,   0,   0,\n",
       "           0,   0,   0,   0,   0,   0,   0,   0,   0,   0,   0,   0,   0,\n",
       "           0,   0]], dtype=uint8),\n",
       " 0)"
      ]
     },
     "execution_count": 24,
     "metadata": {},
     "output_type": "execute_result"
    }
   ],
   "source": [
    "train_loader = DataLoader(train_data, batch_size=16, shuffle=True)\n",
    "val_loader = DataLoader(val_data, batch_size=16, shuffle=False)\n",
    "test_loader = DataLoader(test_data, batch_size=16, shuffle=False)"
   ]
  }
 ],
 "metadata": {
  "kernelspec": {
   "display_name": ".venv",
   "language": "python",
   "name": "python3"
  },
  "language_info": {
   "codemirror_mode": {
    "name": "ipython",
    "version": 3
   },
   "file_extension": ".py",
   "mimetype": "text/x-python",
   "name": "python",
   "nbconvert_exporter": "python",
   "pygments_lexer": "ipython3",
   "version": "3.13.2"
  }
 },
 "nbformat": 4,
 "nbformat_minor": 2
}
